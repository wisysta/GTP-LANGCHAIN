{
 "cells": [
  {
   "cell_type": "code",
   "execution_count": 33,
   "metadata": {},
   "outputs": [],
   "source": [
    "from langchain.chat_models import ChatOpenAI\n",
    "from langchain.document_loaders import UnstructuredFileLoader\n",
    "from langchain.text_splitter import CharacterTextSplitter\n",
    "from langchain.embeddings import OpenAIEmbeddings, CacheBackedEmbeddings\n",
    "from langchain.vectorstores.chroma import Chroma\n",
    "from langchain.storage import LocalFileStore\n",
    "\n",
    "cache_dir = LocalFileStore(\"./.cache/\")\n",
    "\n",
    "splitter = CharacterTextSplitter.from_tiktoken_encoder(\n",
    "    separator=\"\\n\",\n",
    "    chunk_size=200,\n",
    "    chunk_overlap=30,\n",
    ")\n",
    "\n",
    "loader = UnstructuredFileLoader(\"./files/AP_01.pdf\")\n",
    "\n",
    "docs = loader.load_and_split(text_splitter=splitter)\n",
    "\n",
    "embeddings = OpenAIEmbeddings() \n",
    "\n",
    "cache_embeddings = CacheBackedEmbeddings.from_bytes_store(embeddings, cache_dir)\n",
    "\n",
    "vectorstore = Chroma.from_documents(docs, embeddings)"
   ]
  },
  {
   "cell_type": "code",
   "execution_count": 34,
   "metadata": {},
   "outputs": [
    {
     "data": {
      "text/plain": [
       "[Document(page_content='남녀가 섹스의 상대로서\\n이성을 선택함(성욕) 에 있어 각기 어떤 측면을\\n성적매력으로 인식하고 있는지에 대해서는', metadata={'source': './files/AP_01.pdf'}),\n",
       " Document(page_content='남녀가 섹스의 상대로서\\n이성을 선택함(성욕) 에 있어 각기 어떤 측면을\\n성적매력으로 인식하고 있는지에 대해서는', metadata={'source': './files/AP_01.pdf'}),\n",
       " Document(page_content='남녀가 섹스의 상대로서\\n이성을 선택함(성욕) 에 있어 각기 어떤 측면을\\n성적매력으로 인식하고 있는지에 대해서는', metadata={'source': './files/AP_01.pdf'}),\n",
       " Document(page_content='남녀가 섹스의 상대로서\\n이성을 선택함(성욕) 에 있어 각기 어떤 측면을\\n성적매력으로 인식하고 있는지에 대해서는', metadata={'source': './files/AP_01.pdf'}),\n",
       " Document(page_content='남녀가 섹스의 상대로서\\n이성을 선택함(성욕) 에 있어 각기 어떤 측면을\\n성적매력으로 인식하고 있는지에 대해서는', metadata={'source': './files/AP_01.pdf'}),\n",
       " Document(page_content='남녀가 섹스의 상대로서\\n이성을 선택함(성욕) 에 있어 각기 어떤 측면을\\n성적매력으로 인식하고 있는지에 대해서는', metadata={'source': './files/AP_01.pdf'}),\n",
       " Document(page_content='남녀가 섹스의 상대로서\\n이성을 선택함(성욕) 에 있어 각기 어떤 측면을\\n성적매력으로 인식하고 있는지에 대해서는', metadata={'source': './files/AP_01.pdf'}),\n",
       " Document(page_content='남녀가 섹스의 상대로서\\n이성을 선택함(성욕) 에 있어 각기 어떤 측면을\\n성적매력으로 인식하고 있는지에 대해서는', metadata={'source': './files/AP_01.pdf'}),\n",
       " Document(page_content='남녀가 섹스의 상대로서\\n이성을 선택함(성욕) 에 있어 각기 어떤 측면을\\n성적매력으로 인식하고 있는지에 대해서는', metadata={'source': './files/AP_01.pdf'}),\n",
       " Document(page_content='남녀가 섹스의 상대로서\\n이성을 선택함(성욕) 에 있어 각기 어떤 측면을\\n성적매력으로 인식하고 있는지에 대해서는', metadata={'source': './files/AP_01.pdf'})]"
      ]
     },
     "execution_count": 34,
     "metadata": {},
     "output_type": "execute_result"
    }
   ],
   "source": [
    "vectorstore.similarity_search(\"성욕\",k=10)"
   ]
  },
  {
   "cell_type": "code",
   "execution_count": null,
   "metadata": {},
   "outputs": [],
   "source": []
  },
  {
   "cell_type": "code",
   "execution_count": null,
   "metadata": {},
   "outputs": [],
   "source": []
  }
 ],
 "metadata": {
  "kernelspec": {
   "display_name": "gpt",
   "language": "python",
   "name": "gpt"
  },
  "language_info": {
   "codemirror_mode": {
    "name": "ipython",
    "version": 3
   },
   "file_extension": ".py",
   "mimetype": "text/x-python",
   "name": "python",
   "nbconvert_exporter": "python",
   "pygments_lexer": "ipython3",
   "version": "3.11.5"
  }
 },
 "nbformat": 4,
 "nbformat_minor": 4
}
